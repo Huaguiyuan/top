{
 "cells": [
  {
   "cell_type": "code",
   "execution_count": 4,
   "metadata": {},
   "outputs": [],
   "source": [
    "import sys,os\n",
    "\n",
    "os.environ['OMP_NUM_THREADS']=str(4) # set number of OpenMP threads to run in parallel\n",
    "os.environ['MKL_NUM_THREADS']=str(4) # set number of MKL threads to run in parallel\n",
    "\n",
    "#os.environ['OMP_NUM_THREADS']=str(int(sys.argv[1])) # set number of OpenMP threads to run in parallel\n",
    "#os.environ['MKL_NUM_THREADS']=str(int(sys.argv[2])) # set number of MKL threads to run in parallel"
   ]
  },
  {
   "cell_type": "code",
   "execution_count": 5,
   "metadata": {},
   "outputs": [],
   "source": [
    "#This is a script that implements the full tensor product hamiltonian in Quspin. \n",
    "#This may take a long time for large N\n",
    "\n",
    "import quspin\n",
    "import numpy as np # generic math functions\n",
    "import matplotlib.pyplot as plt\n",
    "import time\n",
    "import scipy"
   ]
  },
  {
   "cell_type": "code",
   "execution_count": 3,
   "metadata": {},
   "outputs": [],
   "source": [
    "N_min,N_max = (8,9) # system size\n",
    "\n",
    "h = 0\n",
    "Delta = 0\n",
    "t = 1\n",
    "mu = 0"
   ]
  },
  {
   "cell_type": "code",
   "execution_count": 6,
   "metadata": {},
   "outputs": [],
   "source": [
    "def make_Hamiltonian(N,J,h,t,mu):\n",
    "    # Fermion Hamiltonian\n",
    "    t_sum_pm = [[-t, i,(i+1)%N] for i in range(N)]\n",
    "    t_sum_mp = [[t, i,(i+1)%N] for i in range(N)]\n",
    "\n",
    "    static = [\n",
    "        [\"|+-\",t_sum_pm],\n",
    "        [\"|-+\",t_sum_mp],\n",
    "    ]\n",
    "    dynamic = []\n",
    "    \n",
    "    spin_basis = quspin.basis.spin_basis_1d(N)\n",
    "\n",
    "    no_checks = dict(check_pcon=False,check_symm=False,check_herm=False)\n",
    "\n",
    "    H = quspin.operators.hamiltonian(static,dynamic,basis=spin_basis,**no_checks)\n",
    "    return H #returns as a Quspin Hamiltonian"
   ]
  },
  {
   "cell_type": "code",
   "execution_count": 50,
   "metadata": {},
   "outputs": [],
   "source": [
    "def make_Magnetisation_squared(N):\n",
    "    z_sum = [[(1/N), i] for i in range(N)]\n",
    "\n",
    "    static = [\n",
    "                ['z|', z_sum], #pauli z\n",
    "             ]\n",
    "\n",
    "    spin_basis = quspin.basis.spin_basis_1d(N)\n",
    "\n",
    "    no_checks = dict(check_pcon=False,check_symm=False,check_herm=False)\n",
    "\n",
    "    M = quspin.operators.quantum_LinearOperator(static,basis=spin_basis,**no_checks)\n",
    "    return (M.dot(M)) #returns Quantum_linearOperator object"
   ]
  },
  {
   "cell_type": "code",
   "execution_count": 51,
   "metadata": {},
   "outputs": [],
   "source": [
    "def make_Fermion_pair(N):\n",
    "    mm_sum = [[1, i,(i+1)%N] for i in range(N)]\n",
    "\n",
    "    static = [\n",
    "                ['|--', mm_sum], #pauli z\n",
    "             ]\n",
    "    \n",
    "    dynamic = []\n",
    "    \n",
    "    spin_basis = quspin.basis.spin_basis_1d(N)\n",
    "\n",
    "    no_checks = dict(check_pcon=False,check_symm=False,check_herm=False)\n",
    "\n",
    "    O = quspin.operators.hamiltonian(static,dynamic,basis=spin_basis,**no_checks).tocsr()\n",
    "    \n",
    "    #returns Quantum_linearOperator object\n",
    "    return O"
   ]
  },
  {
   "cell_type": "code",
   "execution_count": 7,
   "metadata": {},
   "outputs": [
    {
     "ename": "NameError",
     "evalue": "name 'N' is not defined",
     "output_type": "error",
     "traceback": [
      "\u001b[0;31m---------------------------------------------------------------------------\u001b[0m",
      "\u001b[0;31mNameError\u001b[0m                                 Traceback (most recent call last)",
      "\u001b[0;32m<ipython-input-7-ba088fffae33>\u001b[0m in \u001b[0;36m<module>\u001b[0;34m\u001b[0m\n\u001b[0;32m----> 1\u001b[0;31m \u001b[0mmake_Hamiltonian\u001b[0m\u001b[0;34m(\u001b[0m\u001b[0mN\u001b[0m\u001b[0;34m,\u001b[0m\u001b[0mJ\u001b[0m\u001b[0;34m,\u001b[0m\u001b[0mh\u001b[0m\u001b[0;34m,\u001b[0m\u001b[0mt\u001b[0m\u001b[0;34m,\u001b[0m\u001b[0mmu\u001b[0m\u001b[0;34m)\u001b[0m\u001b[0;34m\u001b[0m\u001b[0;34m\u001b[0m\u001b[0m\n\u001b[0m",
      "\u001b[0;31mNameError\u001b[0m: name 'N' is not defined"
     ]
    }
   ],
   "source": []
  },
  {
   "cell_type": "code",
   "execution_count": null,
   "metadata": {},
   "outputs": [],
   "source": []
  },
  {
   "cell_type": "code",
   "execution_count": 52,
   "metadata": {},
   "outputs": [
    {
     "name": "stdout",
     "output_type": "stream",
     "text": [
      "Beginning trial N =  8 J =  0.0\n",
      "Making H took 0.3457601070404053 s\n",
      "Diagonalization took 1.5219674110412598 s\n",
      "Expval took 0.07136988639831543 s\n",
      "Beginning trial N =  8 J =  0.1\n"
     ]
    },
    {
     "name": "stderr",
     "output_type": "stream",
     "text": [
      "/media/maciejko/zhan/anaconda3/envs/quspin/lib/python3.7/site-packages/ipykernel_launcher.py:37: ComplexWarning: Casting complex values to real discards the imaginary part\n",
      "/media/maciejko/zhan/anaconda3/envs/quspin/lib/python3.7/site-packages/ipykernel_launcher.py:38: ComplexWarning: Casting complex values to real discards the imaginary part\n"
     ]
    },
    {
     "name": "stdout",
     "output_type": "stream",
     "text": [
      "Making H took 0.3629159927368164 s\n",
      "Diagonalization took 1.4302315711975098 s\n",
      "Expval took 0.05616474151611328 s\n",
      "Beginning trial N =  8 J =  0.2\n",
      "Making H took 0.380979061126709 s\n",
      "Diagonalization took 1.4932796955108643 s\n",
      "Expval took 0.0528106689453125 s\n",
      "Beginning trial N =  8 J =  0.30000000000000004\n",
      "Making H took 0.3538095951080322 s\n",
      "Diagonalization took 1.3361201286315918 s\n",
      "Expval took 0.05383014678955078 s\n",
      "Beginning trial N =  8 J =  0.4\n",
      "Making H took 0.3790090084075928 s\n",
      "Diagonalization took 1.357717752456665 s\n",
      "Expval took 0.06002688407897949 s\n",
      "Beginning trial N =  8 J =  0.5\n",
      "Making H took 0.37673068046569824 s\n",
      "Diagonalization took 1.2331123352050781 s\n",
      "Expval took 0.06001758575439453 s\n",
      "Beginning trial N =  8 J =  0.6000000000000001\n",
      "Making H took 0.3711559772491455 s\n",
      "Diagonalization took 1.091292381286621 s\n",
      "Expval took 0.059761762619018555 s\n",
      "Beginning trial N =  8 J =  0.7000000000000001\n",
      "Making H took 0.3635885715484619 s\n",
      "Diagonalization took 1.0238561630249023 s\n",
      "Expval took 0.05603194236755371 s\n",
      "Beginning trial N =  8 J =  0.8\n",
      "Making H took 0.37058091163635254 s\n",
      "Diagonalization took 1.0003423690795898 s\n",
      "Expval took 0.08328890800476074 s\n",
      "Beginning trial N =  8 J =  0.9\n",
      "Making H took 0.38686585426330566 s\n",
      "Diagonalization took 0.9458599090576172 s\n",
      "Expval took 0.05280947685241699 s\n",
      "Beginning trial N =  8 J =  1.0\n",
      "Making H took 0.35411524772644043 s\n",
      "Diagonalization took 0.9376811981201172 s\n",
      "Expval took 0.05947160720825195 s\n",
      "Beginning trial N =  8 J =  1.1\n",
      "Making H took 0.3607676029205322 s\n",
      "Diagonalization took 1.035693883895874 s\n",
      "Expval took 0.05522656440734863 s\n",
      "Beginning trial N =  8 J =  1.2000000000000002\n",
      "Making H took 0.3739926815032959 s\n",
      "Diagonalization took 0.9640085697174072 s\n",
      "Expval took 0.05580711364746094 s\n",
      "Beginning trial N =  8 J =  1.3\n",
      "Making H took 0.3746795654296875 s\n",
      "Diagonalization took 0.9448235034942627 s\n",
      "Expval took 0.06630516052246094 s\n",
      "Beginning trial N =  8 J =  1.4000000000000001\n",
      "Making H took 0.38791728019714355 s\n",
      "Diagonalization took 0.8401494026184082 s\n",
      "Expval took 0.05280876159667969 s\n",
      "Beginning trial N =  8 J =  1.5\n",
      "Making H took 0.3576643466949463 s\n",
      "Diagonalization took 0.8153843879699707 s\n",
      "Expval took 0.06126546859741211 s\n",
      "Beginning trial N =  8 J =  1.6\n",
      "Making H took 0.38982629776000977 s\n",
      "Diagonalization took 0.8211531639099121 s\n",
      "Expval took 0.056532859802246094 s\n",
      "Beginning trial N =  8 J =  1.7000000000000002\n",
      "Making H took 0.3685939311981201 s\n",
      "Diagonalization took 0.8043062686920166 s\n",
      "Expval took 0.05277252197265625 s\n",
      "Beginning trial N =  8 J =  1.8\n",
      "Making H took 0.3589136600494385 s\n",
      "Diagonalization took 0.790783166885376 s\n",
      "Expval took 0.05242514610290527 s\n",
      "Beginning trial N =  8 J =  1.9000000000000001\n",
      "Making H took 0.3599891662597656 s\n",
      "Diagonalization took 0.8429534435272217 s\n",
      "Expval took 0.06080436706542969 s\n"
     ]
    }
   ],
   "source": [
    "#H_compute_time = []\n",
    "#E_compute_time = []\n",
    "\n",
    "for k, N in enumerate(range(N_min,N_max)):    \n",
    "    delta_E = np.zeros(20)\n",
    "    M_expval = np.zeros(20)\n",
    "    O_expval = np.zeros(20)\n",
    "    \n",
    "    #H_compute_time.append([])\n",
    "    #E_compute_time.append([])\n",
    "    for l, J in enumerate(np.arange(0,2,step=0.1)):\n",
    "        print('Beginning trial N = ',N,'J = ',J)\n",
    "        \n",
    "        start = time.time()\n",
    "        H = make_Hamiltonian(N,J,h,t,mu)\n",
    "        end = time.time()\n",
    "        #H_compute_time[k].append(end-start)\n",
    "        print('Making H took', end-start, 's')\n",
    "    \n",
    "        start = time.time()\n",
    "        #E, V = scipy.sparse.linalg.eigsh(H.tocsr(),which='SA',return_eigenvectors=True,k=2) Not Multithreaded\n",
    "        \n",
    "        E, V = scipy.sparse.linalg.eigsh(H.aslinearoperator(),which='SA',return_eigenvectors=True,k=2) #Multi-OpenMP/MKL \n",
    "        np.save(r'/media/maciejko/zhan/top/data/E_fermion'+str(N),E)\n",
    "        np.save(r'/media/maciejko/zhan/top/data/V_fermion'+str(N),V)\n",
    "        \n",
    "        delta_E[l]=E[1]-E[0]\n",
    "        end = time.time()\n",
    "        #E_compute_time[k].append(end-start)\n",
    "        \n",
    "        print('Diagonalization took', end-start, 's')\n",
    "        \n",
    "        start = time.time()\n",
    "        M = make_Magnetisation_squared(N)\n",
    "        O = make_Fermion_pair(N)\n",
    "        V = V[:,0].flatten()\n",
    "        M_expval[l] = np.vdot(V,M.dot(V)) #complex dotproduct\n",
    "        O_expval[l] = np.vdot(O.dot(V),O.dot(V)) #complex dotproduct\n",
    "        end = time.time()\n",
    "        print('Expval took', end-start, 's')\n",
    "        \n",
    "    np.save(r'/media/maciejko/zhan/top/data/delta_E_'+str(N),delta_E)\n",
    "    np.save(r'/media/maciejko/zhan/top/data/M_expval_'+str(N),M_expval)\n",
    "    np.save(r'/media/maciejko/zhan/top/data/O_expval_'+str(N),O_expval)\n",
    "    #np.save(r'/media/maciejko/zhan/top/data/H_compute_time_N'+str(N),H_compute_time)\n",
    "    #np.save(r'/media/maciejko/zhan/top/data/E_compute_time_N'+str(N),E_compute_time)"
   ]
  },
  {
   "cell_type": "code",
   "execution_count": null,
   "metadata": {},
   "outputs": [],
   "source": [
    "'''Edata = []\n",
    "for j,k in enumerate(range(N_min,N_max)):\n",
    "    for i in E_compute_time[j]:\n",
    "        Edata.append([k, i])\n",
    "Hdata = []\n",
    "for j,k in enumerate(range(N_min,N_max)):\n",
    "    for i in H_compute_time[j]:\n",
    "        Hdata.append([k, i])\n",
    "Edata = np.array(Edata)\n",
    "Hdata = np.array(Hdata)\n",
    "\n",
    "np.save(r'/media/maciejko/zhan/top/data/Edata',Edata)\n",
    "np.save(r'/media/maciejko/zhan/top/data/Hdata',Hdata)'''"
   ]
  },
  {
   "cell_type": "code",
   "execution_count": null,
   "metadata": {},
   "outputs": [],
   "source": []
  },
  {
   "cell_type": "code",
   "execution_count": null,
   "metadata": {},
   "outputs": [],
   "source": []
  },
  {
   "cell_type": "code",
   "execution_count": null,
   "metadata": {},
   "outputs": [],
   "source": []
  },
  {
   "cell_type": "code",
   "execution_count": null,
   "metadata": {},
   "outputs": [],
   "source": []
  }
 ],
 "metadata": {
  "kernelspec": {
   "display_name": "Python 3",
   "language": "python",
   "name": "python3"
  },
  "language_info": {
   "codemirror_mode": {
    "name": "ipython",
    "version": 3
   },
   "file_extension": ".py",
   "mimetype": "text/x-python",
   "name": "python",
   "nbconvert_exporter": "python",
   "pygments_lexer": "ipython3",
   "version": "3.7.3"
  }
 },
 "nbformat": 4,
 "nbformat_minor": 2
}
